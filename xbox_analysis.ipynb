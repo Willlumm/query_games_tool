{
 "cells": [
  {
   "cell_type": "code",
   "execution_count": null,
   "metadata": {},
   "outputs": [],
   "source": [
    "import numpy as np\n",
    "import pandas as pd\n",
    "\n",
    "dtypes = {\n",
    "    \"DateStamp\": str,\n",
    "    \"ProductId\": str,\n",
    "    \"ProductGuid\": str,\n",
    "    \"ProductDisplayName\": str,\n",
    "    \"CorrectedTitleName\": str,\n",
    "    \"CountryName\": str,\n",
    "    \"Platform\": str,\n",
    "    \"CurrencyCode\": str,\n",
    "    \"PurchaseQuantity\": int,\n",
    "    \"PurchasePriceUSDAmount\": float,\n",
    "}\n",
    "\n",
    "\n",
    "xb360 = pd.read_csv(\"xbox360_all.txt\", sep=\"\\t\", dtype=dtypes, parse_dates=[\"DateStamp\"])\n",
    "xb1 = pd.read_csv(\"xboxone_all.txt\", sep=\"\\t\", parse_dates=[\"DateStamp\"])\n",
    "xbs = pd.read_csv(\"xboxseries_all.txt\", sep=\"\\t\", parse_dates=[\"DateStamp\"])\n",
    "\n",
    "df = pd.concat([xb360, xb1, xbs])\n",
    "df"
   ]
  },
  {
   "cell_type": "code",
   "execution_count": null,
   "metadata": {},
   "outputs": [],
   "source": [
    "sf = df[df.CorrectedTitleName.str.contains(\"starfield|forza horizon 5|forza motorsport\", case=False, regex=True)]\n",
    "sf"
   ]
  },
  {
   "cell_type": "code",
   "execution_count": null,
   "metadata": {},
   "outputs": [],
   "source": [
    "sf.to_csv(\"data.csv\", index=False)"
   ]
  },
  {
   "cell_type": "code",
   "execution_count": null,
   "metadata": {},
   "outputs": [],
   "source": [
    "beth = [\n",
    "    \"Wayne Gretzky Hockey\",\n",
    "    \"Terminator\",\n",
    "    \"The Elder Scrolls\",\n",
    "    \"Symbiocom\",\n",
    "    \"Zero Critical\",\n",
    "    \"IHRA Drag Racing series\",\n",
    "    \"Pirates of the Caribbean series\",\n",
    "    \"Call of Cthulhu: Dark Corners of the Earth\",\n",
    "    \"Star Trek\",\n",
    "    \"Fallout\",\n",
    "    \"Wet\",\n",
    "    \"Rogue Warrior\",\n",
    "    \"Rage\",\n",
    "    \"Brink\",\n",
    "    \"Hunted: The Demon's Forge\",\n",
    "    \"Dishonored\",\n",
    "    \"Doom\",\n",
    "    \"Wolfenstein\",\n",
    "    \"The Evil Within\",\n",
    "    \"Prey\",\n",
    "    \"Deathloop\",\n",
    "    \"GHOSTWIRE TOKYO\",\n",
    "    \"Hi-Fi Rush\",\n",
    "    \"Redfall\",\n",
    "    \"Starfield\",\n",
    "    \"Quake\"\n",
    "]\n",
    "beth_filter = \"|\".join(beth)\n",
    "bdf = df[df.DateStamp >= \"2020-01-01\"]\n",
    "bdf = bdf[bdf.CorrectedTitleName.str.contains(beth_filter, case=False, regex=True)]\n",
    "bdf"
   ]
  },
  {
   "cell_type": "code",
   "execution_count": null,
   "metadata": {},
   "outputs": [],
   "source": [
    "bdf.to_csv(\"xb_bethesda.txt\", index=False, sep=\"\\t\")"
   ]
  },
  {
   "cell_type": "code",
   "execution_count": null,
   "metadata": {},
   "outputs": [],
   "source": [
    "bdf[bdf.CorrectedTitleName == \"GHOSTWIRE TOKYO\"]"
   ]
  },
  {
   "cell_type": "code",
   "execution_count": null,
   "metadata": {},
   "outputs": [],
   "source": [
    "fo = df[df.CorrectedTitleName.str.contains(\"fallout\", case=False)]\n",
    "fo.to_csv(\"fallout.csv\", index=False)\n",
    "fo"
   ]
  },
  {
   "cell_type": "code",
   "execution_count": null,
   "metadata": {},
   "outputs": [],
   "source": [
    "pt = fo.pivot_table(index=\"DateStamp\", columns=[\"Platform\", \"CorrectedTitleName\"], values=\"PurchaseQuantity\", aggfunc=np.sum)\n",
    "pt.plot()"
   ]
  },
  {
   "cell_type": "code",
   "execution_count": null,
   "metadata": {},
   "outputs": [],
   "source": [
    "es = df[df.CorrectedTitleName.str.contains(\"GHOSTWIRE TOKYO\", case=False)]\n",
    "pt = es.pivot_table(index=\"DateStamp\", columns=[\"Platform\", \"CorrectedTitleName\"], values=\"PurchaseQuantity\", aggfunc=np.sum)\n",
    "pt.plot()\n"
   ]
  }
 ],
 "metadata": {
  "kernelspec": {
   "display_name": "Python 3",
   "language": "python",
   "name": "python3"
  },
  "language_info": {
   "codemirror_mode": {
    "name": "ipython",
    "version": 3
   },
   "file_extension": ".py",
   "mimetype": "text/x-python",
   "name": "python",
   "nbconvert_exporter": "python",
   "pygments_lexer": "ipython3",
   "version": "3.10.11"
  },
  "orig_nbformat": 4
 },
 "nbformat": 4,
 "nbformat_minor": 2
}
