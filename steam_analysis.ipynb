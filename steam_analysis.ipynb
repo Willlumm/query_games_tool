{
 "cells": [
  {
   "cell_type": "code",
   "execution_count": null,
   "metadata": {},
   "outputs": [],
   "source": [
    "import numpy as np\n",
    "import pandas as pd\n",
    "\n",
    "dtypes = {\n",
    "}\n",
    "\n",
    "\n",
    "df = pd.read_csv(\"steam_all.txt\", sep=\"\\t\", parse_dates=[\"DateStamp\", \"SalesDate\"])\n",
    "df"
   ]
  },
  {
   "cell_type": "code",
   "execution_count": null,
   "metadata": {},
   "outputs": [],
   "source": [
    "sf = df[df.TitleName.str.contains(\"starfield|forza horizon 5|forza motorsport\", case=False, regex=True)]\n",
    "sf"
   ]
  },
  {
   "cell_type": "code",
   "execution_count": null,
   "metadata": {},
   "outputs": [],
   "source": [
    "sf.to_csv(\"data.csv\")"
   ]
  },
  {
   "cell_type": "code",
   "execution_count": null,
   "metadata": {},
   "outputs": [],
   "source": [
    "len(df[[\"TitleName\", \"ProductTitle\", \"SteamProductId\"]].apply(tuple, axis=1).unique())"
   ]
  },
  {
   "cell_type": "code",
   "execution_count": null,
   "metadata": {},
   "outputs": [],
   "source": [
    "fo = df[df.TitleName.str.contains(\"fallout\", case=False)]\n",
    "pt = fo.pivot_table(index=\"SalesDate\", columns=[\"TitleName\"], values=\"PurchaseQuantity\", aggfunc=np.sum)\n",
    "pt.reset_index().SalesDate.describe(datetime_is_numeric=True)"
   ]
  },
  {
   "cell_type": "code",
   "execution_count": null,
   "metadata": {},
   "outputs": [],
   "source": [
    "af = df[df.TitleName == \"Age of Empires II: Definitive Edition\"]\n",
    "pt = af.pivot_table(index=\"SalesDate\", columns=[\"TitleName\"], values=\"PurchaseQuantity\", aggfunc=np.sum)\n",
    "pt[pt.index > \"2023-06-01\"].plot()"
   ]
  },
  {
   "cell_type": "code",
   "execution_count": null,
   "metadata": {},
   "outputs": [],
   "source": [
    "pt[pt.index > \"2020-01-01\"].describe()"
   ]
  },
  {
   "cell_type": "code",
   "execution_count": null,
   "metadata": {},
   "outputs": [],
   "source": [
    "pt[pt.index > \"2023-06-01\"].head(50)"
   ]
  },
  {
   "cell_type": "code",
   "execution_count": null,
   "metadata": {},
   "outputs": [],
   "source": [
    "pt = df.pivot_table(index=\"SalesDate\", values=\"PurchaseQuantity\", aggfunc=np.sum)\n",
    "pt[pt.index > \"2023-01-01\"].plot()"
   ]
  },
  {
   "cell_type": "code",
   "execution_count": null,
   "metadata": {},
   "outputs": [],
   "source": [
    "releases = df.pivot_table(index=\"TitleName\", values=\"SalesDate\", aggfunc=np.min).reset_index()\n",
    "releases = releases.pivot_table(index=\"SalesDate\", values=\"TitleName\", aggfunc=np.count_nonzero)\n",
    "releases = df[[\"SalesDate\"]].pivot_table(index=\"SalesDate\").merge(releases, on=\"SalesDate\", how=\"left\").fillna(0)\n",
    "releases.plot()"
   ]
  },
  {
   "cell_type": "code",
   "execution_count": null,
   "metadata": {},
   "outputs": [],
   "source": [
    "releases.describe()\n",
    "releases[releases.SalesDate == \"2023-06-01\"]"
   ]
  },
  {
   "cell_type": "code",
   "execution_count": null,
   "metadata": {},
   "outputs": [],
   "source": [
    "df = pd.read_csv(\"steam_2023-08-28_to_2023-09-10_all.txt\", sep=\"\\t\")\n",
    "df\n"
   ]
  },
  {
   "cell_type": "code",
   "execution_count": null,
   "metadata": {},
   "outputs": [],
   "source": [
    "new_titles= df[df.Publisher.isna()][[\"TitleName\", \"ProductTitle\", \"SteamProductId\"]].apply(tuple).unique()"
   ]
  },
  {
   "cell_type": "code",
   "execution_count": null,
   "metadata": {},
   "outputs": [],
   "source": [
    "# beth = [\"STARFIELD PREMIUM EDITION UPGRADE (Region 2 (Middle)) (retail)\",\n",
    "# \"Fallout 76: The Pitt Deluxe (Region 3 (Low)) (retail)\",\n",
    "# \"The Elder Scrolls Online - High Isle SE Full (Region 3 (Low)) (retail)\",\n",
    "# \"DEATHLOOP - PreOrder\",\n",
    "# \"Fallout 76: Steel Dawn Deluxe\",\n",
    "# \"DOOM Eternal Deluxe Edition (Regional Post-Launch) (retail)\",\n",
    "# \"Quake Champions - 5000 Platinum\",\n",
    "# \"The Skyrim Anniversary Edition (Region 2 (Middle)) (retail)\",\n",
    "# \"DEATHLOOP - Deluxe\",\n",
    "# \"Quake Champions - 500 Platinum\",\n",
    "# \"Rage Soundtrack\",\n",
    "# \"Wolfenstein: Youngblood Deluxe (Region 3 (Low)) (retail)\",\n",
    "# \"DOOM Eternal Standard Edition Thirdparty Retail (retail)\",\n",
    "# \"Rage (AU) (retail)\",\n",
    "# \"DEATHLOOP - PreOrder\",\n",
    "# \"Hi-Fi RUSH Deluxe Edition PC (Region 3 (Low)) (retail)\",\n",
    "# \"The Elder ScrollsÂ® Online: Tamriel Unlimited Humble Monthly (retail)\",\n",
    "# \"Ghostwire: Tokyo Original Game Soundtrack\"]\n",
    "\n",
    "# df = df[~df.ProductTitle.isin(beth)]\n",
    "# df\n"
   ]
  },
  {
   "cell_type": "code",
   "execution_count": null,
   "metadata": {},
   "outputs": [],
   "source": [
    "# df.to_csv(\"steam_2023-08-28_to_2023-09-10.txt\", index=False, sep=\"\\t\")"
   ]
  }
 ],
 "metadata": {
  "kernelspec": {
   "display_name": "Python 3",
   "language": "python",
   "name": "python3"
  },
  "language_info": {
   "codemirror_mode": {
    "name": "ipython",
    "version": 3
   },
   "file_extension": ".py",
   "mimetype": "text/x-python",
   "name": "python",
   "nbconvert_exporter": "python",
   "pygments_lexer": "ipython3",
   "version": "3.10.11"
  },
  "orig_nbformat": 4
 },
 "nbformat": 4,
 "nbformat_minor": 2
}
